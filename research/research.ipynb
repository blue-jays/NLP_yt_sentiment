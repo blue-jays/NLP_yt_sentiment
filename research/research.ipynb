{
 "cells": [
  {
   "cell_type": "code",
   "execution_count": 1,
   "id": "012705ff",
   "metadata": {},
   "outputs": [
    {
     "name": "stdout",
     "output_type": "stream",
     "text": [
      "Requirement already satisfied: ipykernel in c:\\users\\nafee\\onedrive\\desktop\\project\\nlp_youtube_project\\nlp_yt\\lib\\site-packages (6.29.4)\n",
      "Requirement already satisfied: tornado>=6.1 in c:\\users\\nafee\\onedrive\\desktop\\project\\nlp_youtube_project\\nlp_yt\\lib\\site-packages (from ipykernel) (6.5.1)\n",
      "Requirement already satisfied: nest-asyncio in c:\\users\\nafee\\onedrive\\desktop\\project\\nlp_youtube_project\\nlp_yt\\lib\\site-packages (from ipykernel) (1.6.0)\n",
      "Requirement already satisfied: packaging in c:\\users\\nafee\\onedrive\\desktop\\project\\nlp_youtube_project\\nlp_yt\\lib\\site-packages (from ipykernel) (24.2)\n",
      "Requirement already satisfied: jupyter-client>=6.1.12 in c:\\users\\nafee\\onedrive\\desktop\\project\\nlp_youtube_project\\nlp_yt\\lib\\site-packages (from ipykernel) (8.6.3)\n",
      "Requirement already satisfied: traitlets>=5.4.0 in c:\\users\\nafee\\onedrive\\desktop\\project\\nlp_youtube_project\\nlp_yt\\lib\\site-packages (from ipykernel) (5.14.3)\n",
      "Requirement already satisfied: pyzmq>=24 in c:\\users\\nafee\\onedrive\\desktop\\project\\nlp_youtube_project\\nlp_yt\\lib\\site-packages (from ipykernel) (27.0.0)\n",
      "Requirement already satisfied: comm>=0.1.1 in c:\\users\\nafee\\onedrive\\desktop\\project\\nlp_youtube_project\\nlp_yt\\lib\\site-packages (from ipykernel) (0.2.2)\n",
      "Requirement already satisfied: debugpy>=1.6.5 in c:\\users\\nafee\\onedrive\\desktop\\project\\nlp_youtube_project\\nlp_yt\\lib\\site-packages (from ipykernel) (1.8.15)\n",
      "Requirement already satisfied: matplotlib-inline>=0.1 in c:\\users\\nafee\\onedrive\\desktop\\project\\nlp_youtube_project\\nlp_yt\\lib\\site-packages (from ipykernel) (0.1.7)\n",
      "Requirement already satisfied: psutil in c:\\users\\nafee\\onedrive\\desktop\\project\\nlp_youtube_project\\nlp_yt\\lib\\site-packages (from ipykernel) (7.0.0)\n",
      "Requirement already satisfied: ipython>=7.23.1 in c:\\users\\nafee\\onedrive\\desktop\\project\\nlp_youtube_project\\nlp_yt\\lib\\site-packages (from ipykernel) (8.37.0)\n",
      "Requirement already satisfied: jupyter-core!=5.0.*,>=4.12 in c:\\users\\nafee\\onedrive\\desktop\\project\\nlp_youtube_project\\nlp_yt\\lib\\site-packages (from ipykernel) (5.8.1)\n",
      "Requirement already satisfied: typing_extensions>=4.6 in c:\\users\\nafee\\onedrive\\desktop\\project\\nlp_youtube_project\\nlp_yt\\lib\\site-packages (from ipython>=7.23.1->ipykernel) (4.14.1)\n",
      "Requirement already satisfied: prompt_toolkit<3.1.0,>=3.0.41 in c:\\users\\nafee\\onedrive\\desktop\\project\\nlp_youtube_project\\nlp_yt\\lib\\site-packages (from ipython>=7.23.1->ipykernel) (3.0.51)\n",
      "Requirement already satisfied: jedi>=0.16 in c:\\users\\nafee\\onedrive\\desktop\\project\\nlp_youtube_project\\nlp_yt\\lib\\site-packages (from ipython>=7.23.1->ipykernel) (0.19.2)\n",
      "Requirement already satisfied: decorator in c:\\users\\nafee\\onedrive\\desktop\\project\\nlp_youtube_project\\nlp_yt\\lib\\site-packages (from ipython>=7.23.1->ipykernel) (5.2.1)\n",
      "Requirement already satisfied: stack_data in c:\\users\\nafee\\onedrive\\desktop\\project\\nlp_youtube_project\\nlp_yt\\lib\\site-packages (from ipython>=7.23.1->ipykernel) (0.6.3)\n",
      "Requirement already satisfied: exceptiongroup in c:\\users\\nafee\\onedrive\\desktop\\project\\nlp_youtube_project\\nlp_yt\\lib\\site-packages (from ipython>=7.23.1->ipykernel) (1.3.0)\n",
      "Requirement already satisfied: pygments>=2.4.0 in c:\\users\\nafee\\onedrive\\desktop\\project\\nlp_youtube_project\\nlp_yt\\lib\\site-packages (from ipython>=7.23.1->ipykernel) (2.19.2)\n",
      "Requirement already satisfied: colorama in c:\\users\\nafee\\onedrive\\desktop\\project\\nlp_youtube_project\\nlp_yt\\lib\\site-packages (from ipython>=7.23.1->ipykernel) (0.4.6)\n",
      "Requirement already satisfied: python-dateutil>=2.8.2 in c:\\users\\nafee\\onedrive\\desktop\\project\\nlp_youtube_project\\nlp_yt\\lib\\site-packages (from jupyter-client>=6.1.12->ipykernel) (2.8.2)\n",
      "Requirement already satisfied: pywin32>=300 in c:\\users\\nafee\\onedrive\\desktop\\project\\nlp_youtube_project\\nlp_yt\\lib\\site-packages (from jupyter-core!=5.0.*,>=4.12->ipykernel) (311)\n",
      "Requirement already satisfied: platformdirs>=2.5 in c:\\users\\nafee\\onedrive\\desktop\\project\\nlp_youtube_project\\nlp_yt\\lib\\site-packages (from jupyter-core!=5.0.*,>=4.12->ipykernel) (4.3.8)\n",
      "Requirement already satisfied: parso<0.9.0,>=0.8.4 in c:\\users\\nafee\\onedrive\\desktop\\project\\nlp_youtube_project\\nlp_yt\\lib\\site-packages (from jedi>=0.16->ipython>=7.23.1->ipykernel) (0.8.4)\n",
      "Requirement already satisfied: wcwidth in c:\\users\\nafee\\onedrive\\desktop\\project\\nlp_youtube_project\\nlp_yt\\lib\\site-packages (from prompt_toolkit<3.1.0,>=3.0.41->ipython>=7.23.1->ipykernel) (0.2.13)\n",
      "Requirement already satisfied: six>=1.5 in c:\\users\\nafee\\onedrive\\desktop\\project\\nlp_youtube_project\\nlp_yt\\lib\\site-packages (from python-dateutil>=2.8.2->jupyter-client>=6.1.12->ipykernel) (1.17.0)\n",
      "Collecting executing>=1.2.0\n",
      "  Using cached executing-2.2.0-py2.py3-none-any.whl (26 kB)\n",
      "Requirement already satisfied: pure-eval in c:\\users\\nafee\\onedrive\\desktop\\project\\nlp_youtube_project\\nlp_yt\\lib\\site-packages (from stack_data->ipython>=7.23.1->ipykernel) (0.2.3)\n",
      "Requirement already satisfied: asttokens>=2.1.0 in c:\\users\\nafee\\onedrive\\desktop\\project\\nlp_youtube_project\\nlp_yt\\lib\\site-packages (from stack_data->ipython>=7.23.1->ipykernel) (3.0.0)\n",
      "Installing collected packages: executing\n",
      "  Attempting uninstall: executing\n",
      "    Found existing installation: executing 0.8.2\n",
      "    Uninstalling executing-0.8.2:\n",
      "      Successfully uninstalled executing-0.8.2\n",
      "Successfully installed executing-2.2.0\n",
      "Note: you may need to restart the kernel to use updated packages.\n"
     ]
    },
    {
     "name": "stderr",
     "output_type": "stream",
     "text": [
      "ERROR: pip's dependency resolver does not currently take into account all the packages that are installed. This behaviour is the source of the following dependency conflicts.\n",
      "box 0.1.5 requires executing==0.8.2, but you have executing 2.2.0 which is incompatible.\n",
      "\n",
      "[notice] A new release of pip is available: 23.0.1 -> 25.1.1\n",
      "[notice] To update, run: python.exe -m pip install --upgrade pip\n"
     ]
    }
   ],
   "source": [
    "%pip install ipykernel\n"
   ]
  },
  {
   "cell_type": "code",
   "execution_count": null,
   "id": "67af8d62",
   "metadata": {},
   "outputs": [],
   "source": []
  },
  {
   "cell_type": "code",
   "execution_count": null,
   "id": "9c843e8d",
   "metadata": {},
   "outputs": [],
   "source": [
    "from src.utils import common\n",
    "\n",
    "\n"
   ]
  }
 ],
 "metadata": {
  "kernelspec": {
   "display_name": "NLP_yt",
   "language": "python",
   "name": "python3"
  },
  "language_info": {
   "codemirror_mode": {
    "name": "ipython",
    "version": 3
   },
   "file_extension": ".py",
   "mimetype": "text/x-python",
   "name": "python",
   "nbconvert_exporter": "python",
   "pygments_lexer": "ipython3",
   "version": "3.10.11"
  }
 },
 "nbformat": 4,
 "nbformat_minor": 5
}
