{
 "cells": [
  {
   "cell_type": "code",
   "execution_count": 9,
   "id": "2e4ee9b8",
   "metadata": {},
   "outputs": [
    {
     "name": "stderr",
     "output_type": "stream",
     "text": [
      "c:\\Users\\nafee\\OneDrive\\Desktop\\ML\\Practice ML Projects\\NLP Youtube Sentimen Analyser\\NLP_yt\\lib\\site-packages\\huggingface_hub\\file_download.py:1132: FutureWarning: `resume_download` is deprecated and will be removed in version 1.0.0. Downloads always resume when possible. If you want to force a new download, use `force_download=True`.\n",
      "  warnings.warn(\n"
     ]
    }
   ],
   "source": [
    "from transformers import AutoTokenizer, AutoModelForSequenceClassification\n",
    "import torch\n",
    "\n",
    "\n",
    "# load the model\n",
    "model_name = \"tabularisai/robust-sentiment-analysis\"\n",
    "tokenizer = AutoTokenizer.from_pretrained(model_name)\n",
    "model = AutoModelForSequenceClassification.from_pretrained(model_name) # model for text classification\n"
   ]
  },
  {
   "cell_type": "markdown",
   "id": "4de34f62",
   "metadata": {},
   "source": [
    "Robust model = It classifies the sentences into 5 types, 5 class sentiment\n",
    "\n",
    "Logit = Raw prediction score before softmax.\n",
    "\n",
    "Truncation = True. Refers to the max length, anything more than this will be cut to max length.\n",
    "\n",
    "\n",
    "lets say I have a function that returns 2 things, how to do what ? have 2 variable to take the answers\n",
    "---> def calculate (num):\n",
    "        return num*2, num*10\n",
    "    \n",
    "x, y = calculate(sum)\n"
   ]
  },
  {
   "cell_type": "code",
   "execution_count": 18,
   "id": "1070f4c0",
   "metadata": {},
   "outputs": [
    {
     "name": "stdout",
     "output_type": "stream",
     "text": [
      "1. Text: I absolutely loved this movie! The acting was superb and the plot was engaging.\n",
      "Sentiment: Very Positive \n",
      "\n",
      "\n",
      "2. Text: The service at this restaurant was terrible. I'll never go back.\n",
      "Sentiment: Very Negative \n",
      "\n",
      "\n",
      "3. Text: The product works as expected. Nothing special, but it gets the job done.\n",
      "Sentiment: Neutral \n",
      "\n",
      "\n",
      "4. Text: I'm somewhat disappointed with my purchase. It's not as good as I hoped.\n",
      "Sentiment: Negative \n",
      "\n",
      "\n",
      "5. Text: This book changed my life! I couldn't put it down and learned so much.\n",
      "Sentiment: Very Positive \n",
      "\n",
      "\n",
      "6. Text: fuck you\n",
      "Sentiment: Very Negative \n",
      "\n",
      "\n"
     ]
    }
   ],
   "source": [
    "# function for prediction \n",
    "def predict_sentiment(text):\n",
    "    inputs = tokenizer(text.lower(), return_tensors=\"pt\", truncation = True, padding = True, max_length = 512)\n",
    "    with torch.no_grad():\n",
    "        outputs = model(**inputs)\n",
    "        \n",
    "        \n",
    "    probabilities = torch.nn.functional.softmax(outputs.logits, dim = -1 )\n",
    "    # apply the softmax function.\n",
    "    predicted_class = torch.argmax(probabilities, dim = -1).item()\n",
    "    # get the index of the highest probability, item() --> converts tensors to python int\n",
    "    \n",
    "    sentiment ={\n",
    "        0: \"Very Negative\", \n",
    "        1: \"Negative\", \n",
    "        2: \"Neutral\", \n",
    "        3: \"Positive\", \n",
    "        4: \"Very Positive\"\n",
    "    }\n",
    "    \n",
    "    return sentiment[predicted_class] \n",
    "\n",
    "# Example usage\n",
    "texts = [\n",
    "    \"I absolutely loved this movie! The acting was superb and the plot was engaging.\",\n",
    "    \"The service at this restaurant was terrible. I'll never go back.\",\n",
    "    \"The product works as expected. Nothing special, but it gets the job done.\",\n",
    "    \"I'm somewhat disappointed with my purchase. It's not as good as I hoped.\",\n",
    "    \"This book changed my life! I couldn't put it down and learned so much.\",\n",
    "    \"fuck you\"\n",
    "]\n",
    "\n",
    "count = 1\n",
    "for text in texts:\n",
    "    sentiment  = predict_sentiment(text)\n",
    "    print(f\"{count}. Text: {text}\")\n",
    "    print(f\"Sentiment: {sentiment} \")\n",
    "    print('\\n')\n",
    "    count +=1\n",
    "    "
   ]
  },
  {
   "cell_type": "code",
   "execution_count": null,
   "id": "e636f714",
   "metadata": {},
   "outputs": [],
   "source": []
  },
  {
   "cell_type": "code",
   "execution_count": null,
   "id": "3c032971",
   "metadata": {},
   "outputs": [],
   "source": []
  }
 ],
 "metadata": {
  "kernelspec": {
   "display_name": "NLP_yt",
   "language": "python",
   "name": "python3"
  },
  "language_info": {
   "codemirror_mode": {
    "name": "ipython",
    "version": 3
   },
   "file_extension": ".py",
   "mimetype": "text/x-python",
   "name": "python",
   "nbconvert_exporter": "python",
   "pygments_lexer": "ipython3",
   "version": "3.10.11"
  }
 },
 "nbformat": 4,
 "nbformat_minor": 5
}
